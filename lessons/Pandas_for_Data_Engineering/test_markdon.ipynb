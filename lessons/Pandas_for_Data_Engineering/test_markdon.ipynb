{
 "cells": [
  {
   "cell_type": "markdown",
   "metadata": {},
   "source": [
    "|\tФункция\t|\tОписание\t|\n",
    "|\t---\t    |\t---\t        |\n",
    "|\tSeries.align(other[, join, axis, level, ...])\t|\tВыровнять два объекта по их осям с помощью указанного метода соединения.\t|\n",
    "|\t\t|\t\t|\n",
    "|\tSeries.drop([labels, axis, index, columns, ...])\t|\tВернуть Series с удаленными указанными метками индекса.\t|\n",
    "|\tSeries.droplevel(level[, axis])\t|\tВернуть Series/DataFrame с удаленными запрошенными индексами/уровнями столбцов.\t|\n",
    "|\tSeries.drop_duplicates(*[, keep, inplace, ...])\t|\tВернуть Series с удаленными дублирующими значениями.\t|\n",
    "|\tSeries.duplicated([keep])\t|\tУказать дублирующие значения Series.\t|\n",
    "|\tSeries.truncate([before, after, axis, copy])\t|\tОбрезать Series или DataFrame до и после некоторого значения индекса.\t|"
   ]
  }
 ],
 "metadata": {
  "language_info": {
   "name": "python"
  }
 },
 "nbformat": 4,
 "nbformat_minor": 2
}

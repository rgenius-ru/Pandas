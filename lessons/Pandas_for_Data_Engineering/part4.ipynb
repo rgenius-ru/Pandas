{
 "cells": [
  {
   "cell_type": "markdown",
   "metadata": {},
   "source": [
    "# Часть 4 - Дополнительные сценарии использования pandas"
   ]
  },
  {
   "cell_type": "markdown",
   "metadata": {},
   "source": [
    "## Содержание"
   ]
  },
  {
   "cell_type": "markdown",
   "metadata": {},
   "source": [
    "### 12 Использование времени в pandas\n",
    "- Введение во временные ряды\n",
    "- Что такое datetimes?\n",
    "- Задание 12.1 - понимание использования энергии\n",
    "- Математические операции с datetime\n",
    "- Резюме\n",
    "\n",
    "### 13 Изучение временных рядов\n",
    "- Временной ряд как индекс\n",
    "- Повторная выборка, группировка и агрегирование по времени\n",
    "- Задание 13.01 - Создание модели временного ряда\n",
    "- Резюме\n",
    "\n",
    "### 14 Применение обработки данных pandas для тематических исследований\n",
    "- Знакомство с тематическими исследованиями и наборами данных\n",
    "- Обзор этапов предварительной обработки\n",
    "- Задание 14.01 - анализ данных о качестве воздуха\n",
    "- Резюме"
   ]
  },
  {
   "cell_type": "markdown",
   "metadata": {},
   "source": [
    "## 12 Использование времени в pandas"
   ]
  },
  {
   "cell_type": "markdown",
   "metadata": {},
   "source": [
    "### Введение во временные ряды"
   ]
  },
  {
   "cell_type": "markdown",
   "metadata": {},
   "source": [
    "### Что такое datetimes?"
   ]
  },
  {
   "cell_type": "markdown",
   "metadata": {},
   "source": [
    "### Задание 12.1 - понимание использования энергии"
   ]
  },
  {
   "cell_type": "markdown",
   "metadata": {},
   "source": [
    "### Математические операции с datetime"
   ]
  },
  {
   "cell_type": "markdown",
   "metadata": {},
   "source": [
    "### Резюме"
   ]
  },
  {
   "cell_type": "markdown",
   "metadata": {},
   "source": [
    "## 13 Изучение временных рядов"
   ]
  },
  {
   "cell_type": "markdown",
   "metadata": {},
   "source": [
    "### Временной ряд как индекс"
   ]
  },
  {
   "cell_type": "markdown",
   "metadata": {},
   "source": [
    "### Повторная выборка, группировка и агрегирование по времени"
   ]
  },
  {
   "cell_type": "markdown",
   "metadata": {},
   "source": [
    "### Задание 13.01 - Создание модели временного ряда"
   ]
  },
  {
   "cell_type": "markdown",
   "metadata": {},
   "source": [
    "### Резюме"
   ]
  },
  {
   "cell_type": "markdown",
   "metadata": {},
   "source": [
    "## 14 Применение обработки данных pandas для тематических исследований"
   ]
  },
  {
   "cell_type": "markdown",
   "metadata": {},
   "source": [
    "### Знакомство с тематическими исследованиями и наборами данных"
   ]
  },
  {
   "cell_type": "markdown",
   "metadata": {},
   "source": [
    "### Обзор этапов предварительной обработки"
   ]
  },
  {
   "cell_type": "markdown",
   "metadata": {},
   "source": [
    "### Задание 14.01 - анализ данных о качестве воздуха"
   ]
  },
  {
   "cell_type": "markdown",
   "metadata": {},
   "source": [
    "### Резюме"
   ]
  }
 ],
 "metadata": {
  "language_info": {
   "name": "python"
  }
 },
 "nbformat": 4,
 "nbformat_minor": 2
}

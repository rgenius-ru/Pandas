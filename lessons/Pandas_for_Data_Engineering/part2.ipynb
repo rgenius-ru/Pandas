{
 "cells": [
  {
   "cell_type": "markdown",
   "metadata": {},
   "source": [
    "# Часть 2 - Работа с данными"
   ]
  },
  {
   "cell_type": "markdown",
   "metadata": {},
   "source": [
    "## Содержание"
   ]
  },
  {
   "cell_type": "markdown",
   "metadata": {},
   "source": [
    "### 5 Выборка данных - DataFrame\n",
    "- Введение в DataFrame\n",
    "- Выбор данных в pandas DataFrame\n",
    "- Задание 5.01: Создание мультииндекса из столбцов\n",
    "- Скобочная и точечная нотация\n",
    "- Изменение значений DataFrame с помощью скобочной или точечной нотации\n",
    "- Резюме\n",
    "\n",
    "### 6 Выбор данных - Series\n",
    "- Введение в pandas Series\n",
    "- Индекс Series\n",
    "- Подготовка Series из DataFrames и наоборот\n",
    "- Задание 6.1 - выбор данных Series\n",
    "- Понимание различий между выбором данных в базовом Python и pandas\n",
    "- Задание 6.02 - выборка данных с помощью DataFrame\n",
    "- Резюме\n",
    "\n",
    "### 7 Исследование и преобразование данных\n",
    "- Введение в преобразование данных\n",
    "- Работа с грязными данными\n",
    "- Работа с отсутствующими данными\n",
    "- Обобщение данных\n",
    "- Задание 6.01 - анализ данных с помощью сводных таблиц pivot\n",
    "- Резюме\n",
    "\n",
    "### 8 Визуализация данных\n",
    "- Введение в визуализацию данных\n",
    "- Понимание основ визуализации в pandas\n",
    "- Изучение Matplotlib\n",
    "- Визуализация данных различных типов\n",
    "- Задание 8.01 - Визуализация для исследовательского анализа данных\n",
    "- Резюме"
   ]
  },
  {
   "cell_type": "markdown",
   "metadata": {},
   "source": [
    "## 5 Выборка данных - DataFrame"
   ]
  },
  {
   "cell_type": "markdown",
   "metadata": {},
   "source": [
    "### Введение в DataFrame"
   ]
  },
  {
   "cell_type": "markdown",
   "metadata": {},
   "source": [
    "### Выбор данных в pandas DataFrame"
   ]
  },
  {
   "cell_type": "markdown",
   "metadata": {},
   "source": [
    "### Задание 5.01: Создание мультииндекса из столбцов"
   ]
  },
  {
   "cell_type": "markdown",
   "metadata": {},
   "source": [
    "### Скобочная и точечная нотация"
   ]
  },
  {
   "cell_type": "markdown",
   "metadata": {},
   "source": [
    "### Изменение значений DataFrame с помощью скобочной или точечной нотации"
   ]
  },
  {
   "cell_type": "markdown",
   "metadata": {},
   "source": [
    "### Резюме"
   ]
  },
  {
   "cell_type": "markdown",
   "metadata": {},
   "source": [
    "## 6 Выбор данных - Series"
   ]
  },
  {
   "cell_type": "markdown",
   "metadata": {},
   "source": [
    "### Введение в pandas Series"
   ]
  },
  {
   "cell_type": "markdown",
   "metadata": {},
   "source": [
    "### Индекс Series"
   ]
  },
  {
   "cell_type": "markdown",
   "metadata": {},
   "source": [
    "### Подготовка Series из DataFrames и наоборот"
   ]
  },
  {
   "cell_type": "markdown",
   "metadata": {},
   "source": [
    "### Задание 6.1 - выбор данных Series"
   ]
  },
  {
   "cell_type": "markdown",
   "metadata": {},
   "source": [
    "### Понимание различий между выбором данных в базовом Python и pandas"
   ]
  },
  {
   "cell_type": "markdown",
   "metadata": {},
   "source": [
    "### Задание 6.02 - выборка данных с помощью DataFrame"
   ]
  },
  {
   "cell_type": "markdown",
   "metadata": {},
   "source": [
    "### Резюме"
   ]
  },
  {
   "cell_type": "markdown",
   "metadata": {},
   "source": [
    "## 7 Исследование и преобразование данных"
   ]
  },
  {
   "cell_type": "markdown",
   "metadata": {},
   "source": [
    "### Введение в преобразование данных"
   ]
  },
  {
   "cell_type": "markdown",
   "metadata": {},
   "source": [
    "### Работа с грязными данными"
   ]
  },
  {
   "cell_type": "markdown",
   "metadata": {},
   "source": [
    "### Работа с отсутствующими данными"
   ]
  },
  {
   "cell_type": "markdown",
   "metadata": {},
   "source": [
    "### Обобщение данных"
   ]
  },
  {
   "cell_type": "markdown",
   "metadata": {},
   "source": [
    "### Задание 6.01 - анализ данных с помощью сводных таблиц pivot"
   ]
  },
  {
   "cell_type": "markdown",
   "metadata": {},
   "source": [
    "### Резюме"
   ]
  },
  {
   "cell_type": "markdown",
   "metadata": {},
   "source": [
    "## 8 Визуализация данных"
   ]
  },
  {
   "cell_type": "markdown",
   "metadata": {},
   "source": [
    "### Введение в визуализацию данных"
   ]
  },
  {
   "cell_type": "markdown",
   "metadata": {},
   "source": [
    "### Понимание основ визуализации в pandas"
   ]
  },
  {
   "cell_type": "markdown",
   "metadata": {},
   "source": [
    "### Изучение Matplotlib"
   ]
  },
  {
   "cell_type": "markdown",
   "metadata": {},
   "source": [
    "### Визуализация данных различных типов"
   ]
  },
  {
   "cell_type": "markdown",
   "metadata": {},
   "source": [
    "### Задание 8.01 - Визуализация для исследовательского анализа данных"
   ]
  },
  {
   "cell_type": "markdown",
   "metadata": {},
   "source": [
    "### Резюме"
   ]
  }
 ],
 "metadata": {
  "language_info": {
   "name": "python"
  }
 },
 "nbformat": 4,
 "nbformat_minor": 2
}

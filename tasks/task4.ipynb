{
 "cells": [
  {
   "cell_type": "markdown",
   "metadata": {},
   "source": [
    "У вас есть словарь \"data\" с неоднородными и нетабличными данными.\n",
    "\n",
    "Этот словарь содержит информацию о школе, учениках и учителях. Ученики могут использовать его для тренировки обработки неоднородных и нетабличных данных с помощью библиотеки pandas.\n",
    "\n",
    "Ваша задача:\n",
    "1. Извлечь данные о:\n",
    "    - студентах\n",
    "    - их оценках\n",
    "    - внеклассных занятиях\n",
    "2. Извлечь информацию об учителях и их опыте\n",
    "3. Преобразуйте все извлеченные ранее данные в отдельные Датафреймы\n",
    "4. Создайте единый Датафрейм состоящий из всех Датафреймов в п.3\n",
    "\n",
    "ВАЖНО: При выполнении задания старайтесь использовать только те методы, которые вы изучали ранее."
   ]
  },
  {
   "cell_type": "code",
   "execution_count": null,
   "metadata": {
    "vscode": {
     "languageId": "plaintext"
    }
   },
   "outputs": [],
   "source": [
    "data = {\n",
    "    \"school\": {\n",
    "        \"name\": \"Greenwood High\",\n",
    "        \"location\": \"Amsterdam\",\n",
    "        \"students\": [\n",
    "            {\n",
    "                \"id\": 1,\n",
    "                \"name\": \"Alice\",\n",
    "                \"age\": 14,\n",
    "                \"grades\": {\n",
    "                    \"math\": 85,\n",
    "                    \"science\": 92,\n",
    "                    \"history\": 78\n",
    "                },\n",
    "                \"activities\": [\"basketball\", \"chess\"]\n",
    "            },\n",
    "            {\n",
    "                \"id\": 2,\n",
    "                \"name\": \"Bob\",\n",
    "                \"age\": 15,\n",
    "                \"grades\": {\n",
    "                    \"math\": 90,\n",
    "                    \"science\": 88,\n",
    "                    \"history\": 84\n",
    "                },\n",
    "                \"activities\": [\"soccer\", \"debate\"]\n",
    "            },\n",
    "            {\n",
    "                \"id\": 3,\n",
    "                \"name\": \"Charlie\",\n",
    "                \"age\": 14,\n",
    "                \"grades\": {\n",
    "                    \"math\": 76,\n",
    "                    \"science\": 80,\n",
    "                    \"history\": 85\n",
    "                },\n",
    "                \"activities\": [\"music\", \"art\"]\n",
    "            }\n",
    "        ],\n",
    "        \"teachers\": {\n",
    "            \"math\": {\n",
    "                \"name\": \"Mr. Smith\",\n",
    "                \"experience\": 10,\n",
    "                \"subjects\": [\"algebra\", \"geometry\"]\n",
    "            },\n",
    "            \"science\": {\n",
    "                \"name\": \"Ms. Johnson\",\n",
    "                \"experience\": 8,\n",
    "                \"subjects\": [\"biology\", \"chemistry\"]\n",
    "            }\n",
    "        }\n",
    "    }\n",
    "}\n"
   ]
  }
 ],
 "metadata": {
  "language_info": {
   "name": "python"
  }
 },
 "nbformat": 4,
 "nbformat_minor": 2
}

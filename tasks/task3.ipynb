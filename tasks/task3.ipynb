{
 "cells": [
  {
   "cell_type": "markdown",
   "metadata": {},
   "source": [
    "У вас есть словарь \"data\" с данными о студентах и их оценках. \n",
    "\n",
    "Ваша задача:\n",
    "1. Создать DataFrame\n",
    "2. Сохранить DataFrame в xlsx файл\n",
    "3. Проверить, что файл был успешно создан"
   ]
  },
  {
   "cell_type": "code",
   "execution_count": null,
   "metadata": {},
   "outputs": [],
   "source": [
    "data = {\n",
    "    'Имя': ['Анна', 'Борис', 'Виктор', 'Галина', 'Дмитрий'],\n",
    "    'Возраст': [20, 21, 19, 22, 20],\n",
    "    'Оценка': [88, 92, 85, 90, 87]\n",
    "}\n",
    "\n",
    "data"
   ]
  }
 ],
 "metadata": {
  "kernelspec": {
   "display_name": "venv",
   "language": "python",
   "name": "python3"
  },
  "language_info": {
   "codemirror_mode": {
    "name": "ipython",
    "version": 3
   },
   "file_extension": ".py",
   "mimetype": "text/x-python",
   "name": "python",
   "nbconvert_exporter": "python",
   "pygments_lexer": "ipython3",
   "version": "3.8.10"
  }
 },
 "nbformat": 4,
 "nbformat_minor": 2
}
